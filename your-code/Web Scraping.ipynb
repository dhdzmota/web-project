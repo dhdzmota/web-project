{
 "cells": [
  {
   "cell_type": "markdown",
   "metadata": {},
   "source": [
    "# Web Scrapping"
   ]
  },
  {
   "cell_type": "code",
   "execution_count": 1,
   "metadata": {},
   "outputs": [],
   "source": [
    "# Import the libraries\n",
    "import requests\n",
    "from bs4 import BeautifulSoup\n",
    "import pandas as pd\n",
    "import html5lib"
   ]
  },
  {
   "cell_type": "code",
   "execution_count": 2,
   "metadata": {},
   "outputs": [],
   "source": [
    "# Use the URL of the general web-page. \n",
    "url = 'https://datos.jalisco.gob.mx/search/type/dataset?query=incendio&sort_by=changed'\n",
    "html = requests.get(url).content\n",
    "soup = BeautifulSoup(html,'html5lib')"
   ]
  },
  {
   "cell_type": "code",
   "execution_count": 3,
   "metadata": {},
   "outputs": [
    {
     "data": {
      "text/plain": [
       "['/dataset/incendios-forestales-en-bosque-la-primavera-2019',\n",
       " '/dataset/incendios-forestales-en-bosque-la-primavera-septiembre-diciembre-2018',\n",
       " '/dataset/incendios-forestales-en-bosque-la-primavera-enero-abril-2018']"
      ]
     },
     "execution_count": 3,
     "metadata": {},
     "output_type": "execute_result"
    }
   ],
   "source": [
    "# Use findall to determine the best datasets with the given the desired conditions\n",
    "items = soup.find_all('a')\n",
    "item_index = [i for i in range(len(items)) if items[i].text.startswith('Incendios forestales en Bosque La Primavera')]\n",
    "\n",
    "# Add each element into a list\n",
    "urls = [items[index].attrs['href'] for index in item_index if 'resource' not in items[index].attrs['href']]\n",
    "urls"
   ]
  },
  {
   "cell_type": "code",
   "execution_count": 4,
   "metadata": {},
   "outputs": [
    {
     "data": {
      "text/plain": [
       "['https://datos.jalisco.gob.mx/sites/default/files/incendios_forestales_opd_blp-ene-abril-2019.csv',\n",
       " 'https://datos.jalisco.gob.mx/sites/default/files/bosque_la_primavera_incendios_forestales_sep-dic_2018.csv',\n",
       " 'https://datos.jalisco.gob.mx/sites/default/files/incendios_forestales_en_blp_enero-abril-18_13jul2018.csv']"
      ]
     },
     "execution_count": 4,
     "metadata": {},
     "output_type": "execute_result"
    }
   ],
   "source": [
    "# Obtain information of all the desired pages to access the wanted information\n",
    "\n",
    "# The general URL IS:\n",
    "URL = \"https://datos.jalisco.gob.mx\"\n",
    "soups = [BeautifulSoup(requests.get(URL+page).content, 'html5lib') for page in urls]\n",
    "\n",
    "# Optain the links for the csv that have the data in a list. \n",
    "csv_url = [soup.find_all('a', {'class':'btn btn-primary data-link'})[0].attrs['href'] for soup in soups]\n",
    "csv_url\n",
    "\n",
    "# NEXT STEPS DIDN'T WORK!!!!\n",
    "\n",
    "#final_records = [BeautifulSoup(requests.get(URL+urls).content, 'html5lib') for urls in final_url]\n",
    "#records = [element.find_all('span', {'class':'recline-results-info'}) for element in final_records]\n",
    "#for i in final_url:\n",
    "#    print(URL+i)\n",
    "#lista = final_records[0].find_all('div',{'class': 'navigation'})\n",
    "#lista"
   ]
  },
  {
   "cell_type": "code",
   "execution_count": 5,
   "metadata": {},
   "outputs": [],
   "source": [
    "# Finally obtain all the data on a list, one can obtain the information of a csv with Beautiful soup!\n",
    "crude_data = [requests.get(csv).content for csv in csv_url]\n",
    "texts = [BeautifulSoup(crude_data[i],'html5lib').decode('ascii').split('<html>\\n <head>\\n </head>\\n <body>\\n')[1].split('</body>\\n</html>')[0] \n",
    "         for i in range(len(crude_data))]\n",
    "\n",
    "#Add each element into a list. \n",
    "final_df = [[row.split(',') for row in texts[element].split('\\n')] for element in range(len(texts))]"
   ]
  },
  {
   "cell_type": "code",
   "execution_count": 10,
   "metadata": {},
   "outputs": [],
   "source": [
    "# There was a single value that made noise to all the data, it had 20 columns instead of 18, it weas fixed manually with\n",
    "# the next code:\n",
    "\n",
    "for i in range(len(final_df[2])):\n",
    "    if len(final_df[2][i])==20:\n",
    "        final_df[2].pop(i)"
   ]
  },
  {
   "cell_type": "code",
   "execution_count": 11,
   "metadata": {},
   "outputs": [],
   "source": [
    "#Generate the final dataframe with all the raw data from the three links:\n",
    "\n",
    "dataframes = [pd.DataFrame(data[1:-1], columns = data[0]) for data in final_df]\n",
    "fire_df=pd.DataFrame()\n",
    "for dataframe in dataframes:\n",
    "    fire_df = fire_df.append(dataframe)\n",
    "\n",
    "fire_df = fire_df\n",
    "fire_df.to_csv('fire_data.csv')"
   ]
  },
  {
   "cell_type": "markdown",
   "metadata": {},
   "source": [
    "# Data cleaning"
   ]
  },
  {
   "cell_type": "code",
   "execution_count": 19,
   "metadata": {},
   "outputs": [
    {
     "data": {
      "text/plain": [
       "['  número de incendio',\n",
       " 'fuente',\n",
       " 'zona',\n",
       " 'paraje',\n",
       " 'municipio',\n",
       " 'coordenadas geográficas norte',\n",
       " 'coordenadas geográficas oeste',\n",
       " 'causa',\n",
       " 'fecha de registro',\n",
       " 'estrato afectado forestal hojarasca',\n",
       " 'estrato afectado forestal pasto',\n",
       " 'estrato afectado forestal arbusto',\n",
       " 'estrato afectado forestal renuevo',\n",
       " 'estrato afectado no forestal cultivos',\n",
       " 'estrato afectado no forestal pastizal',\n",
       " 'estrato afectado no forestal otros',\n",
       " 'superficie afectada total',\n",
       " 'número de participantes']"
      ]
     },
     "execution_count": 19,
     "metadata": {},
     "output_type": "execute_result"
    }
   ],
   "source": [
    "# Rename Columns\n",
    "[colname.lower() for colname in list(fire_df.columns)]"
   ]
  },
  {
   "cell_type": "code",
   "execution_count": null,
   "metadata": {},
   "outputs": [],
   "source": [
    "# Check for null values\n",
    "fire_df.isnull().sum()"
   ]
  },
  {
   "cell_type": "code",
   "execution_count": 14,
   "metadata": {},
   "outputs": [
    {
     "data": {
      "text/html": [
       "<div>\n",
       "<style scoped>\n",
       "    .dataframe tbody tr th:only-of-type {\n",
       "        vertical-align: middle;\n",
       "    }\n",
       "\n",
       "    .dataframe tbody tr th {\n",
       "        vertical-align: top;\n",
       "    }\n",
       "\n",
       "    .dataframe thead th {\n",
       "        text-align: right;\n",
       "    }\n",
       "</style>\n",
       "<table border=\"1\" class=\"dataframe\">\n",
       "  <thead>\n",
       "    <tr style=\"text-align: right;\">\n",
       "      <th></th>\n",
       "      <th>count</th>\n",
       "      <th>unique</th>\n",
       "      <th>top</th>\n",
       "      <th>freq</th>\n",
       "    </tr>\n",
       "  </thead>\n",
       "  <tbody>\n",
       "    <tr>\n",
       "      <th>NÚMERO DE INCENDIO</th>\n",
       "      <td>205</td>\n",
       "      <td>117</td>\n",
       "      <td>49</td>\n",
       "      <td>2</td>\n",
       "    </tr>\n",
       "    <tr>\n",
       "      <th>FUENTE</th>\n",
       "      <td>205</td>\n",
       "      <td>1</td>\n",
       "      <td>OPD BLP</td>\n",
       "      <td>205</td>\n",
       "    </tr>\n",
       "    <tr>\n",
       "      <th>ZONA</th>\n",
       "      <td>205</td>\n",
       "      <td>2</td>\n",
       "      <td>ZI</td>\n",
       "      <td>134</td>\n",
       "    </tr>\n",
       "    <tr>\n",
       "      <th>PARAJE</th>\n",
       "      <td>205</td>\n",
       "      <td>111</td>\n",
       "      <td>SAN JOSE DE LA MONTAÑA</td>\n",
       "      <td>18</td>\n",
       "    </tr>\n",
       "    <tr>\n",
       "      <th>MUNICIPIO</th>\n",
       "      <td>205</td>\n",
       "      <td>7</td>\n",
       "      <td>ZAPOPAN</td>\n",
       "      <td>108</td>\n",
       "    </tr>\n",
       "    <tr>\n",
       "      <th>COORDENADAS GEOGRÁFICAS NORTE</th>\n",
       "      <td>205</td>\n",
       "      <td>205</td>\n",
       "      <td>\"N 20° 37´ 31.3\"\"\"</td>\n",
       "      <td>1</td>\n",
       "    </tr>\n",
       "    <tr>\n",
       "      <th>COORDENADAS GEOGRÁFICAS OESTE</th>\n",
       "      <td>205</td>\n",
       "      <td>202</td>\n",
       "      <td>\"W 103° 41´ 11.0\"\"\"</td>\n",
       "      <td>2</td>\n",
       "    </tr>\n",
       "    <tr>\n",
       "      <th>CAUSA</th>\n",
       "      <td>205</td>\n",
       "      <td>15</td>\n",
       "      <td>INTENCIONAL</td>\n",
       "      <td>81</td>\n",
       "    </tr>\n",
       "    <tr>\n",
       "      <th>FECHA DE REGISTRO</th>\n",
       "      <td>205</td>\n",
       "      <td>123</td>\n",
       "      <td>17/02/2019</td>\n",
       "      <td>4</td>\n",
       "    </tr>\n",
       "    <tr>\n",
       "      <th>ESTRATO AFECTADO FORESTAL HOJARASCA</th>\n",
       "      <td>205</td>\n",
       "      <td>63</td>\n",
       "      <td>0.00</td>\n",
       "      <td>71</td>\n",
       "    </tr>\n",
       "    <tr>\n",
       "      <th>ESTRATO AFECTADO FORESTAL PASTO</th>\n",
       "      <td>205</td>\n",
       "      <td>77</td>\n",
       "      <td></td>\n",
       "      <td>65</td>\n",
       "    </tr>\n",
       "    <tr>\n",
       "      <th>ESTRATO AFECTADO FORESTAL ARBUSTO</th>\n",
       "      <td>205</td>\n",
       "      <td>16</td>\n",
       "      <td>0.00</td>\n",
       "      <td>102</td>\n",
       "    </tr>\n",
       "    <tr>\n",
       "      <th>ESTRATO AFECTADO FORESTAL RENUEVO</th>\n",
       "      <td>205</td>\n",
       "      <td>4</td>\n",
       "      <td>0.00</td>\n",
       "      <td>108</td>\n",
       "    </tr>\n",
       "    <tr>\n",
       "      <th>ESTRATO AFECTADO NO FORESTAL CULTIVOS</th>\n",
       "      <td>205</td>\n",
       "      <td>4</td>\n",
       "      <td>0.00</td>\n",
       "      <td>109</td>\n",
       "    </tr>\n",
       "    <tr>\n",
       "      <th>ESTRATO AFECTADO NO FORESTAL PASTIZAL</th>\n",
       "      <td>205</td>\n",
       "      <td>47</td>\n",
       "      <td>0.00</td>\n",
       "      <td>102</td>\n",
       "    </tr>\n",
       "    <tr>\n",
       "      <th>ESTRATO AFECTADO NO FORESTAL OTROS</th>\n",
       "      <td>205</td>\n",
       "      <td>5</td>\n",
       "      <td>0.00</td>\n",
       "      <td>109</td>\n",
       "    </tr>\n",
       "    <tr>\n",
       "      <th>SUPERFICIE AFECTADA TOTAL</th>\n",
       "      <td>205</td>\n",
       "      <td>155</td>\n",
       "      <td>0</td>\n",
       "      <td>8</td>\n",
       "    </tr>\n",
       "    <tr>\n",
       "      <th>NÚMERO DE PARTICIPANTES</th>\n",
       "      <td>205</td>\n",
       "      <td>57</td>\n",
       "      <td>9</td>\n",
       "      <td>14</td>\n",
       "    </tr>\n",
       "  </tbody>\n",
       "</table>\n",
       "</div>"
      ],
      "text/plain": [
       "                                      count unique                     top  \\\n",
       "  NÚMERO DE INCENDIO                    205    117                      49   \n",
       "FUENTE                                  205      1                 OPD BLP   \n",
       "ZONA                                    205      2                      ZI   \n",
       "PARAJE                                  205    111  SAN JOSE DE LA MONTAÑA   \n",
       "MUNICIPIO                               205      7                 ZAPOPAN   \n",
       "COORDENADAS GEOGRÁFICAS NORTE           205    205      \"N 20° 37´ 31.3\"\"\"   \n",
       "COORDENADAS GEOGRÁFICAS OESTE           205    202     \"W 103° 41´ 11.0\"\"\"   \n",
       "CAUSA                                   205     15             INTENCIONAL   \n",
       "FECHA DE REGISTRO                       205    123              17/02/2019   \n",
       "ESTRATO AFECTADO FORESTAL HOJARASCA     205     63                    0.00   \n",
       "ESTRATO AFECTADO FORESTAL PASTO         205     77                           \n",
       "ESTRATO AFECTADO FORESTAL ARBUSTO       205     16                    0.00   \n",
       "ESTRATO AFECTADO FORESTAL RENUEVO       205      4                    0.00   \n",
       "ESTRATO AFECTADO NO FORESTAL CULTIVOS   205      4                    0.00   \n",
       "ESTRATO AFECTADO NO FORESTAL PASTIZAL   205     47                    0.00   \n",
       "ESTRATO AFECTADO NO FORESTAL OTROS      205      5                    0.00   \n",
       "SUPERFICIE AFECTADA TOTAL               205    155                       0   \n",
       "NÚMERO DE PARTICIPANTES                 205     57                       9   \n",
       "\n",
       "                                      freq  \n",
       "  NÚMERO DE INCENDIO                     2  \n",
       "FUENTE                                 205  \n",
       "ZONA                                   134  \n",
       "PARAJE                                  18  \n",
       "MUNICIPIO                              108  \n",
       "COORDENADAS GEOGRÁFICAS NORTE            1  \n",
       "COORDENADAS GEOGRÁFICAS OESTE            2  \n",
       "CAUSA                                   81  \n",
       "FECHA DE REGISTRO                        4  \n",
       "ESTRATO AFECTADO FORESTAL HOJARASCA     71  \n",
       "ESTRATO AFECTADO FORESTAL PASTO         65  \n",
       "ESTRATO AFECTADO FORESTAL ARBUSTO      102  \n",
       "ESTRATO AFECTADO FORESTAL RENUEVO      108  \n",
       "ESTRATO AFECTADO NO FORESTAL CULTIVOS  109  \n",
       "ESTRATO AFECTADO NO FORESTAL PASTIZAL  102  \n",
       "ESTRATO AFECTADO NO FORESTAL OTROS     109  \n",
       "SUPERFICIE AFECTADA TOTAL                8  \n",
       "NÚMERO DE PARTICIPANTES                 14  "
      ]
     },
     "execution_count": 14,
     "metadata": {},
     "output_type": "execute_result"
    }
   ],
   "source": [
    "# Obtain a descrpition of the data\n",
    "fire_df.describe().T"
   ]
  }
 ],
 "metadata": {
  "kernelspec": {
   "display_name": "Python 3",
   "language": "python",
   "name": "python3"
  },
  "language_info": {
   "codemirror_mode": {
    "name": "ipython",
    "version": 3
   },
   "file_extension": ".py",
   "mimetype": "text/x-python",
   "name": "python",
   "nbconvert_exporter": "python",
   "pygments_lexer": "ipython3",
   "version": "3.7.1"
  }
 },
 "nbformat": 4,
 "nbformat_minor": 2
}
